{
  "nbformat": 4,
  "nbformat_minor": 0,
  "metadata": {
    "colab": {
      "name": "Copy of Spring2021_AECAI_Session_1_HW.ipynb",
      "provenance": [],
      "collapsed_sections": [],
      "include_colab_link": true
    },
    "kernelspec": {
      "name": "python3",
      "display_name": "Python 3"
    }
  },
  "cells": [
    {
      "cell_type": "markdown",
      "metadata": {
        "id": "view-in-github",
        "colab_type": "text"
      },
      "source": [
        "<a href=\"https://colab.research.google.com/github/vikashsinghal74/Movie_data_science/blob/main/Copy_of_Spring2021_AECAI_Session_1_HW.ipynb\" target=\"_parent\"><img src=\"https://colab.research.google.com/assets/colab-badge.svg\" alt=\"Open In Colab\"/></a>"
      ]
    },
    {
      "cell_type": "code",
      "metadata": {
        "colab": {
          "base_uri": "https://localhost:8080/"
        },
        "id": "XIJa07aigMUv",
        "outputId": "cf2e802f-80e2-4209-c183-7fb2c7562f6c"
      },
      "source": [
        "#This is a function for getting a list of all popular movies and its vote averages\n",
        "def  list_of_popular_movies_by_vote_average(url, api_key, page_input, page_number, sorted_film_vote_average_list_per_page):\n",
        "  import json, requests\n",
        "  response = requests.get(url + api_key + page_input + page_number)\n",
        "  film_data = response.json()\n",
        "  film_and_vote_average_list = []\n",
        "  sorted_film_vote_average_list_per_page = []\n",
        "  for x in film_data['results']:\n",
        "    title_of_film = (x['title'])\n",
        "    film_vote_average_list = (x['vote_average'])\n",
        "    film_and_vote_average_list = [film_vote_average_list, title_of_film]\n",
        "    sorted_film_vote_average_list_per_page.append(film_and_vote_average_list)\n",
        "    sorted_film_vote_average_list_per_page.sort(reverse=True)\n",
        "  return (sorted_film_vote_average_list_per_page)\n",
        "\n",
        "##main program\n",
        "sorted_film_vote_average_list = []\n",
        "sorted_film_vote_average_list_per_page=[]\n",
        "list_2 = []\n",
        "for x in range(0, 500):\n",
        "  x = x+1\n",
        "  sorted_film_vote_average_list_per_page=list_of_popular_movies_by_vote_average(\"https://api.themoviedb.org/3/discover/movie?api_key=\", \"c8a0874f6d4bf6af7bf12aa19e6f6483\", \"&page=\", str(x), sorted_film_vote_average_list_per_page)\n",
        "  sorted_film_vote_average_list.extend(sorted_film_vote_average_list_per_page)\n",
        "sorted_film_vote_average_list.sort(reverse=True)\n",
        "print(sorted_film_vote_average_list[0:5])\n",
        "print(\"The most popular movie, \" + sorted_film_vote_average_list[0][1] + \", got a vote average of \" + str(sorted_film_vote_average_list[0][0])) "
      ],
      "execution_count": null,
      "outputs": [
        {
          "output_type": "stream",
          "text": [
            "[[10, 'The World to Come'], [10, 'The Amityville Harvest'], [10, 'Sweded Film Festival for Creative Re-Creations'], [10, 'One Punch Man'], [10, 'Dragon Ball Z Abridged']]\n",
            "The most popular movie, The World to Come, got a vote average of 10\n"
          ],
          "name": "stdout"
        }
      ]
    },
    {
      "cell_type": "code",
      "metadata": {
        "colab": {
          "base_uri": "https://localhost:8080/",
          "height": 248
        },
        "id": "v7EaDjl_c2-7",
        "outputId": "e2a2769c-7bef-4da3-c3c5-1329dfb98f84"
      },
      "source": [
        "#def  most_successful_actor_by_revenue(url, api_key):\n",
        "import json, requests\n",
        "  #response = requests.get(url + api_key)\n",
        "response = requests.get('https://api.themoviedb.org/3/discover/movie?api_key='+ 'c8a0874f6d4bf6af7bf12aa19e6f6483' + '&sort_by=revenue.desc')\n",
        "film_data = response.json()\n",
        "#print(film_data)\n",
        "x = film_data['results']\n",
        "#print(x)\n",
        "film_id=[]\n",
        "for y in x: \n",
        "  film_id.append(y['id'])\n",
        "#print(film_id)\n",
        "film_and_vote_average ={}\n",
        "#film_and_vote_average.setdefault(newkey, [])\n",
        "id_each_actor =[]\n",
        "actor_name = []\n",
        "for z in film_id:\n",
        "  actor_data=[]\n",
        "  newurl = \"https://api.themoviedb.org/3/movie/%s/credits?api_key=\" %z\n",
        "  newkey= \"c8a0874f6d4bf6af7bf12aa19e6f6483\"\n",
        "  #print(newurl)\n",
        "  response1 = requests.get(newurl + newkey)\n",
        "  actor_data = response1.json()\n",
        "  #print(actor_data)\n",
        "  actor_cast= actor_data['cast']\n",
        "  for y in actor_cast:\n",
        "    #actor_name.append(y['name'])\n",
        "    #print(z, actor_name)\n",
        "    newkey = y['name']\n",
        "    print(newkey,z)\n",
        "    film_and_vote_average[newkey].append(z)\n",
        " # title_film.append(x['title'])\n",
        " #vote_average_for_each_film.add(x['vote_average'])\n",
        "  #print(film_and_vote_average)\n",
        "  for act in actor_name:\n",
        "    id_each_actor.append(z)\n",
        "  #print(act,id_each_actor)\n",
        "print(film_and_vote_average)\n"
      ],
      "execution_count": null,
      "outputs": [
        {
          "output_type": "stream",
          "text": [
            "Robert Downey Jr. 299534\n"
          ],
          "name": "stdout"
        },
        {
          "output_type": "error",
          "ename": "KeyError",
          "evalue": "ignored",
          "traceback": [
            "\u001b[0;31m---------------------------------------------------------------------------\u001b[0m",
            "\u001b[0;31mKeyError\u001b[0m                                  Traceback (most recent call last)",
            "\u001b[0;32m<ipython-input-27-e7e4bc8e6800>\u001b[0m in \u001b[0;36m<module>\u001b[0;34m()\u001b[0m\n\u001b[1;32m     29\u001b[0m     \u001b[0mnewkey\u001b[0m \u001b[0;34m=\u001b[0m \u001b[0my\u001b[0m\u001b[0;34m[\u001b[0m\u001b[0;34m'name'\u001b[0m\u001b[0;34m]\u001b[0m\u001b[0;34m\u001b[0m\u001b[0;34m\u001b[0m\u001b[0m\n\u001b[1;32m     30\u001b[0m     \u001b[0mprint\u001b[0m\u001b[0;34m(\u001b[0m\u001b[0mnewkey\u001b[0m\u001b[0;34m,\u001b[0m\u001b[0mz\u001b[0m\u001b[0;34m)\u001b[0m\u001b[0;34m\u001b[0m\u001b[0;34m\u001b[0m\u001b[0m\n\u001b[0;32m---> 31\u001b[0;31m     \u001b[0mfilm_and_vote_average\u001b[0m\u001b[0;34m[\u001b[0m\u001b[0mnewkey\u001b[0m\u001b[0;34m]\u001b[0m\u001b[0;34m.\u001b[0m\u001b[0mappend\u001b[0m\u001b[0;34m(\u001b[0m\u001b[0mz\u001b[0m\u001b[0;34m)\u001b[0m\u001b[0;34m\u001b[0m\u001b[0;34m\u001b[0m\u001b[0m\n\u001b[0m\u001b[1;32m     32\u001b[0m  \u001b[0;31m# title_film.append(x['title'])\u001b[0m\u001b[0;34m\u001b[0m\u001b[0;34m\u001b[0m\u001b[0;34m\u001b[0m\u001b[0m\n\u001b[1;32m     33\u001b[0m  \u001b[0;31m#vote_average_for_each_film.add(x['vote_average'])\u001b[0m\u001b[0;34m\u001b[0m\u001b[0;34m\u001b[0m\u001b[0;34m\u001b[0m\u001b[0m\n",
            "\u001b[0;31mKeyError\u001b[0m: 'Robert Downey Jr.'"
          ]
        }
      ]
    },
    {
      "cell_type": "code",
      "metadata": {
        "id": "vyTD5qOJTa4p"
      },
      "source": [
        ""
      ],
      "execution_count": null,
      "outputs": []
    }
  ]
}